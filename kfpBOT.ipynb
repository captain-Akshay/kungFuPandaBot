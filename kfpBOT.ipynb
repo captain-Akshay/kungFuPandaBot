{
  "nbformat": 4,
  "nbformat_minor": 0,
  "metadata": {
    "colab": {
      "provenance": []
    },
    "kernelspec": {
      "name": "python3",
      "display_name": "Python 3"
    },
    "language_info": {
      "name": "python"
    }
  },
  "cells": [
    {
      "cell_type": "code",
      "source": [
        "!pip install numpy\n",
        "!pip install pandas\n",
        "!pip install scikit-learn\n",
        "!pip install openai\n"
      ],
      "metadata": {
        "colab": {
          "base_uri": "https://localhost:8080/"
        },
        "id": "Crdl94hNlpbm",
        "outputId": "ad6b3444-1c54-4c6e-e131-777ade7b34f4"
      },
      "execution_count": 5,
      "outputs": [
        {
          "output_type": "stream",
          "name": "stdout",
          "text": [
            "Looking in indexes: https://pypi.org/simple, https://us-python.pkg.dev/colab-wheels/public/simple/\n",
            "Requirement already satisfied: numpy in /usr/local/lib/python3.9/dist-packages (1.22.4)\n",
            "Looking in indexes: https://pypi.org/simple, https://us-python.pkg.dev/colab-wheels/public/simple/\n",
            "Requirement already satisfied: pandas in /usr/local/lib/python3.9/dist-packages (1.5.3)\n",
            "Requirement already satisfied: python-dateutil>=2.8.1 in /usr/local/lib/python3.9/dist-packages (from pandas) (2.8.2)\n",
            "Requirement already satisfied: pytz>=2020.1 in /usr/local/lib/python3.9/dist-packages (from pandas) (2022.7.1)\n",
            "Requirement already satisfied: numpy>=1.20.3 in /usr/local/lib/python3.9/dist-packages (from pandas) (1.22.4)\n",
            "Requirement already satisfied: six>=1.5 in /usr/local/lib/python3.9/dist-packages (from python-dateutil>=2.8.1->pandas) (1.16.0)\n",
            "Looking in indexes: https://pypi.org/simple, https://us-python.pkg.dev/colab-wheels/public/simple/\n",
            "Requirement already satisfied: scikit-learn in /usr/local/lib/python3.9/dist-packages (1.2.2)\n",
            "Requirement already satisfied: joblib>=1.1.1 in /usr/local/lib/python3.9/dist-packages (from scikit-learn) (1.2.0)\n",
            "Requirement already satisfied: threadpoolctl>=2.0.0 in /usr/local/lib/python3.9/dist-packages (from scikit-learn) (3.1.0)\n",
            "Requirement already satisfied: scipy>=1.3.2 in /usr/local/lib/python3.9/dist-packages (from scikit-learn) (1.10.1)\n",
            "Requirement already satisfied: numpy>=1.17.3 in /usr/local/lib/python3.9/dist-packages (from scikit-learn) (1.22.4)\n",
            "Looking in indexes: https://pypi.org/simple, https://us-python.pkg.dev/colab-wheels/public/simple/\n",
            "Requirement already satisfied: openai in /usr/local/lib/python3.9/dist-packages (0.27.4)\n",
            "Requirement already satisfied: tqdm in /usr/local/lib/python3.9/dist-packages (from openai) (4.65.0)\n",
            "Requirement already satisfied: aiohttp in /usr/local/lib/python3.9/dist-packages (from openai) (3.8.4)\n",
            "Requirement already satisfied: requests>=2.20 in /usr/local/lib/python3.9/dist-packages (from openai) (2.27.1)\n",
            "Requirement already satisfied: charset-normalizer~=2.0.0 in /usr/local/lib/python3.9/dist-packages (from requests>=2.20->openai) (2.0.12)\n",
            "Requirement already satisfied: urllib3<1.27,>=1.21.1 in /usr/local/lib/python3.9/dist-packages (from requests>=2.20->openai) (1.26.15)\n",
            "Requirement already satisfied: idna<4,>=2.5 in /usr/local/lib/python3.9/dist-packages (from requests>=2.20->openai) (3.4)\n",
            "Requirement already satisfied: certifi>=2017.4.17 in /usr/local/lib/python3.9/dist-packages (from requests>=2.20->openai) (2022.12.7)\n",
            "Requirement already satisfied: multidict<7.0,>=4.5 in /usr/local/lib/python3.9/dist-packages (from aiohttp->openai) (6.0.4)\n",
            "Requirement already satisfied: yarl<2.0,>=1.0 in /usr/local/lib/python3.9/dist-packages (from aiohttp->openai) (1.9.1)\n",
            "Requirement already satisfied: attrs>=17.3.0 in /usr/local/lib/python3.9/dist-packages (from aiohttp->openai) (23.1.0)\n",
            "Requirement already satisfied: frozenlist>=1.1.1 in /usr/local/lib/python3.9/dist-packages (from aiohttp->openai) (1.3.3)\n",
            "Requirement already satisfied: async-timeout<5.0,>=4.0.0a3 in /usr/local/lib/python3.9/dist-packages (from aiohttp->openai) (4.0.2)\n",
            "Requirement already satisfied: aiosignal>=1.1.2 in /usr/local/lib/python3.9/dist-packages (from aiohttp->openai) (1.3.1)\n"
          ]
        }
      ]
    },
    {
      "cell_type": "code",
      "source": [
        "\n",
        "import pandas as pd\n",
        "import numpy as np\n",
        "import json\n",
        "import openai\n",
        "from sklearn.metrics.pairwise import cosine_similarity\n"
      ],
      "metadata": {
        "id": "Nx4WjiVTlrp8"
      },
      "execution_count": 6,
      "outputs": []
    },
    {
      "cell_type": "code",
      "source": [
        "\n",
        "CHUNK_SIZE = 600\n",
        "OVERLAP = 20\n",
        "openai.api_key = input(\"Paste your OpenAI API key here and hit enter:\");\n",
        "###"
      ],
      "metadata": {
        "colab": {
          "base_uri": "https://localhost:8080/"
        },
        "id": "X8bg-2JYltFQ",
        "outputId": "b73996d0-4438-48b0-d959-adfc46a50c7c"
      },
      "execution_count": 7,
      "outputs": [
        {
          "name": "stdout",
          "output_type": "stream",
          "text": [
            "Paste your OpenAI API key here and hit enter:XXX\n"
          ]
        }
      ]
    },
    {
      "cell_type": "code",
      "source": [
        "\n",
        "# Load the Kung Fu Panda script from a CSV file\n",
        "df = pd.read_csv(\"KFP1Script.csv\", encoding=\"ISO-8859-1\")"
      ],
      "metadata": {
        "id": "L4McD_CPluPc"
      },
      "execution_count": 8,
      "outputs": []
    },
    {
      "cell_type": "code",
      "source": [
        "df[\"x\"]"
      ],
      "metadata": {
        "colab": {
          "base_uri": "https://localhost:8080/"
        },
        "id": "vbtsVQY1m0_r",
        "outputId": "d997de4b-d747-4dfe-fa96-57dafad7bbfc"
      },
      "execution_count": 17,
      "outputs": [
        {
          "output_type": "execute_result",
          "data": {
            "text/plain": [
              "0                                        Film title card\n",
              "1      Written here is the full transcript of DreamWo...\n",
              "2                                                    NaN\n",
              "3      [A mysterious warrior, with his identity hidde...\n",
              "4      NARRATOR (PO): [In voiceover] Legend tells of ...\n",
              "                             ...                        \n",
              "896    PO: [Relieved.] Oh... So, um, I should... stop...\n",
              "897                                  SHIFU: If you can. \n",
              "898               PO: You want to get something to eat? \n",
              "899    [Shifu opens his eyes and sighs deeply. For a ...\n",
              "900                                        SHIFU: Yeah. \n",
              "Name: x, Length: 901, dtype: object"
            ]
          },
          "metadata": {},
          "execution_count": 17
        }
      ]
    },
    {
      "cell_type": "code",
      "source": [
        "df.shape"
      ],
      "metadata": {
        "colab": {
          "base_uri": "https://localhost:8080/"
        },
        "id": "xbawabyOlwNU",
        "outputId": "2b243147-fe50-42f9-a323-fb1280c112c5"
      },
      "execution_count": 13,
      "outputs": [
        {
          "output_type": "execute_result",
          "data": {
            "text/plain": [
              "(901, 1)"
            ]
          },
          "metadata": {},
          "execution_count": 13
        }
      ]
    },
    {
      "cell_type": "code",
      "source": [
        "text_list = df['x'].str.cat(sep=' ').split()\n",
        "chunks = [text_list[i:i+CHUNK_SIZE] for i in range(0, len(text_list), CHUNK_SIZE-OVERLAP)]"
      ],
      "metadata": {
        "id": "G3hatGZul6T0"
      },
      "execution_count": 18,
      "outputs": []
    },
    {
      "cell_type": "code",
      "execution_count": 19,
      "metadata": {
        "colab": {
          "base_uri": "https://localhost:8080/"
        },
        "id": "-_e3IRcWkc3w",
        "outputId": "5a6ae938-b9cf-480d-8ab2-5d286227aa57"
      },
      "outputs": [
        {
          "output_type": "stream",
          "name": "stdout",
          "text": [
            "Po's favorite food is noodles. He is a noodle-loving panda, and his father runs a noodle shop. He often dreams of noodles, and his father even gave him a noodle hat to signify his destiny of taking over the noodle shop.\n"
          ]
        }
      ],
      "source": [
        "df = pd.DataFrame(columns=['chunk', 'gpt_raw', 'embedding'])\n",
        "for chunk in chunks:\n",
        "    f = openai.Embedding.create(\n",
        "        model=\"text-embedding-ada-002\",\n",
        "        input=\" \".join(chunk),\n",
        "    )\n",
        "    df.loc[len(df.index)] = (chunk, f, np.array(f['data'][0]['embedding']))\n",
        "\n",
        "query = \"What is Po's favorite food?\"\n",
        "f = openai.Embedding.create(\n",
        "    model=\"text-embedding-ada-002\",\n",
        "    input=query\n",
        ")\n",
        "query_embedding = np.array(f['data'][0]['embedding'])\n",
        "\n",
        "similarity = []\n",
        "for arr in df['embedding'].values:\n",
        "    similarity.extend(cosine_similarity(query_embedding.reshape(1, -1), arr.reshape(1, -1)))\n",
        "context_chunk = chunks[np.argmax(similarity)]\n",
        "\n",
        "query_to_send = \"CONTEXT: \" + \" \".join(context_chunk) + \"\\n\\n\" + query\n",
        "response = openai.Completion.create(\n",
        "  model=\"text-davinci-003\",\n",
        "  prompt= query_to_send,\n",
        "  max_tokens=100,\n",
        "  temperature=0\n",
        ")\n",
        "print(response['choices'][0]['text'].strip())"
      ]
    },
    {
      "cell_type": "code",
      "source": [],
      "metadata": {
        "id": "QiNZan4ikvTl"
      },
      "execution_count": null,
      "outputs": []
    }
  ]
}
